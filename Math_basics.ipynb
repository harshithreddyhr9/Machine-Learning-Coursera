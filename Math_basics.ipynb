{
 "cells": [
  {
   "cell_type": "code",
   "execution_count": 1,
   "metadata": {},
   "outputs": [
    {
     "name": "stdout",
     "output_type": "stream",
     "text": [
      "[1 2 3 4 5]\n",
      "<class 'numpy.ndarray'>\n"
     ]
    }
   ],
   "source": [
    "x = [1, 2, 3, 4, 5]\n",
    "x\n",
    "\n",
    "# using numpy\n",
    "import numpy as np\n",
    "x = np.array([1, 2, 3, 4, 5])\n",
    "\n",
    "print(x)\n",
    "print(type(x))"
   ]
  },
  {
   "cell_type": "code",
   "execution_count": 2,
   "metadata": {},
   "outputs": [
    {
     "name": "stdout",
     "output_type": "stream",
     "text": [
      "[[1 5 2]\n",
      " [4 7 4]\n",
      " [2 0 9]]\n",
      "(3, 3)\n"
     ]
    }
   ],
   "source": [
    "## matrices\n",
    "\n",
    "m = np.array([[1, 5, 2],\n",
    "              [4, 7, 4],\n",
    "              [2, 0, 9]])\n",
    "\n",
    "# view matrix\n",
    "print(m)\n",
    "\n",
    "# view dimensions\n",
    "print(m.shape)"
   ]
  },
  {
   "cell_type": "code",
   "execution_count": 3,
   "metadata": {},
   "outputs": [
    {
     "name": "stdout",
     "output_type": "stream",
     "text": [
      "Matrix Transpose:\n",
      " [[1 4 2]\n",
      " [5 7 0]\n",
      " [2 4 9]] \n",
      "\n"
     ]
    }
   ],
   "source": [
    "# matrix transpose\n",
    "print('Matrix Transpose:\\n', m.transpose(), '\\n')"
   ]
  },
  {
   "cell_type": "code",
   "execution_count": 4,
   "metadata": {},
   "outputs": [
    {
     "name": "stdout",
     "output_type": "stream",
     "text": [
      "Matrix Determinant: -105.00000000000006 \n",
      "\n"
     ]
    }
   ],
   "source": [
    "# matrix determinant\n",
    "print ('Matrix Determinant:', np.linalg.det(m), '\\n')"
   ]
  },
  {
   "cell_type": "code",
   "execution_count": 5,
   "metadata": {},
   "outputs": [
    {
     "name": "stdout",
     "output_type": "stream",
     "text": [
      "Matrix inverse:\n",
      " [[-0.6         0.42857143 -0.05714286]\n",
      " [ 0.26666667 -0.04761905 -0.03809524]\n",
      " [ 0.13333333 -0.0952381   0.12380952]] \n",
      "\n"
     ]
    }
   ],
   "source": [
    "# matrix inverse\n",
    "m_inv = np.linalg.inv(m)\n",
    "print ('Matrix inverse:\\n', m_inv, '\\n')"
   ]
  },
  {
   "cell_type": "code",
   "execution_count": 6,
   "metadata": {},
   "outputs": [
    {
     "name": "stdout",
     "output_type": "stream",
     "text": [
      "Product of matrix and its inverse:\n",
      " [[1. 0. 0.]\n",
      " [0. 1. 0.]\n",
      " [0. 0. 1.]]\n"
     ]
    }
   ],
   "source": [
    "# identity matrix (result of matrix x matrix_inverse)\n",
    "iden_m =  np.dot(m, m_inv)\n",
    "iden_m = np.round(np.abs(iden_m), 0)\n",
    "print ('Product of matrix and its inverse:\\n', iden_m)\n"
   ]
  },
  {
   "cell_type": "code",
   "execution_count": 9,
   "metadata": {},
   "outputs": [
    {
     "name": "stdout",
     "output_type": "stream",
     "text": [
      "Data:  [13 18 14  7  6 18 12  4 19 16 12 17  8 10 16]\n",
      "Mean: 12.666666666666666\n",
      "Median: 13.0\n",
      "Mode: ModeResult(mode=array([12]), count=array([2]))\n",
      "Standard Deviation: 4.628414655389275\n",
      "Variance: 21.422222222222217\n",
      "Skew: -0.3597956675863459\n",
      "Kurtosis: -1.1110216766240246\n"
     ]
    }
   ],
   "source": [
    "# descriptive statistics\n",
    "import scipy as sp\n",
    "import numpy as np\n",
    "from scipy import stats\n",
    "# get data\n",
    "nums = np.random.randint(1,20, size=(1,15))[0]\n",
    "print('Data: ', nums)\n",
    "\n",
    "# get descriptive stats\n",
    "print ('Mean:', sp.mean(nums))\n",
    "print ('Median:', sp.median(nums))\n",
    "print ('Mode:', sp.stats.mode(nums))\n",
    "print ('Standard Deviation:', sp.std(nums))\n",
    "print ('Variance:', sp.var(nums))\n",
    "print ('Skew:', sp.stats.skew(nums))\n",
    "print ('Kurtosis:', sp.stats.kurtosis(nums))"
   ]
  },
  {
   "cell_type": "code",
   "execution_count": null,
   "metadata": {},
   "outputs": [],
   "source": []
  }
 ],
 "metadata": {
  "kernelspec": {
   "display_name": "Python 3",
   "language": "python",
   "name": "python3"
  },
  "language_info": {
   "codemirror_mode": {
    "name": "ipython",
    "version": 3
   },
   "file_extension": ".py",
   "mimetype": "text/x-python",
   "name": "python",
   "nbconvert_exporter": "python",
   "pygments_lexer": "ipython3",
   "version": "3.7.0"
  }
 },
 "nbformat": 4,
 "nbformat_minor": 2
}
